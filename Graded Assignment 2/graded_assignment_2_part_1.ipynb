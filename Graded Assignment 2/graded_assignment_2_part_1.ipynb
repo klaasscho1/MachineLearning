{
 "cells": [
  {
   "cell_type": "markdown",
   "metadata": {},
   "source": [
    "# Graded Lab Assignment 2: Evaluate classifiers (10 points)\n",
    " \n",
    "In this assignment you will optimize and compare the perfomance of a parametric (logistic regression) and non-parametric (k-nearest neighbours) classifier on the MNIST dataset."
   ]
  },
  {
   "cell_type": "markdown",
   "metadata": {},
   "source": [
    "# Implementation of the experiment\n",
    "### Import Modules"
   ]
  },
  {
   "cell_type": "code",
   "execution_count": 21,
   "metadata": {},
   "outputs": [
    {
     "name": "stdout",
     "output_type": "stream",
     "text": [
      "Populating the interactive namespace from numpy and matplotlib\n"
     ]
    }
   ],
   "source": [
    "% pylab inline\n",
    "\n",
    "from sklearn.datasets import load_digits # Dataset\n",
    "from sklearn.preprocessing import StandardScaler # Data Pre-processing\n",
    "from sklearn.neighbors import KNeighborsClassifier # K-NN Classifier\n",
    "from sklearn.linear_model import LogisticRegression # Logistic Regression Classifier\n",
    "from sklearn.model_selection import KFold, cross_val_score # Cross-Validation Functions\n",
    "from sklearn.metrics import classification_report, accuracy_score, confusion_matrix # Analysis Functions\n",
    "import itertools # Iteration Tools for Confusion Matrix"
   ]
  },
  {
   "cell_type": "markdown",
   "metadata": {},
   "source": [
    "### Load Dataset"
   ]
  },
  {
   "cell_type": "code",
   "execution_count": 24,
   "metadata": {},
   "outputs": [],
   "source": [
    "digits = load_digits()\n",
    "\n",
    "# training set\n",
    "X_train_mnist = reshape(digits.images[:1500], (1500, 64))\n",
    "y_train_mnist = digits.target[:1500]\n",
    "\n",
    "# test set\n",
    "X_test_mnist = reshape(digits.images[1500:], (297, 64))\n",
    "y_test_mnist = digits.target[1500:]"
   ]
  },
  {
   "cell_type": "markdown",
   "metadata": {},
   "source": [
    "### Data Pre-processing\n",
    "\n",
    "In the case of this dataset, the only pre-processing method that seemed necessary to me after reviewing most of them was scaling the data. When I did not do this, the optimized values for `C` and `k` would always return to `1`. This was resolved after scaling the data to a standard distribution."
   ]
  },
  {
   "cell_type": "code",
   "execution_count": 34,
   "metadata": {},
   "outputs": [],
   "source": [
    "# standardize features by removing the mean and scaling to unit variance\n",
    "scaler = StandardScaler()\n",
    "\n",
    "X_train_mnist = scaler.fit_transform(X_train_mnist)\n",
    "X_test_mnist = scaler.transform(X_test_mnist)"
   ]
  },
  {
   "cell_type": "markdown",
   "metadata": {},
   "source": [
    "### Default Parameters"
   ]
  },
  {
   "cell_type": "markdown",
   "metadata": {},
   "source": [
    "For the default values of C and k I went for the values that are default according to the [sk-learn documentation](http://scikit-learn.org/stable/index.html), which was `C` = `1.0` and `k` = `5`."
   ]
  },
  {
   "cell_type": "code",
   "execution_count": 33,
   "metadata": {
    "collapsed": true
   },
   "outputs": [],
   "source": [
    "# default regularization parameter\n",
    "C = 1.0\n",
    "\n",
    "# default number of neighbours\n",
    "k = 5\n",
    "\n",
    "# default cross-validation type\n",
    "cv_type = KFold(n_splits = 10)"
   ]
  },
  {
   "cell_type": "markdown",
   "metadata": {},
   "source": [
    "### Training (Using Default Parameters)"
   ]
  },
  {
   "cell_type": "code",
   "execution_count": 35,
   "metadata": {},
   "outputs": [],
   "source": [
    "def train_classifier(classifier):\n",
    "    \"\"\"\n",
    "    fits given classifier with the training data\n",
    "    \"\"\"\n",
    "    global X_train_mnist, y_train_mnist\n",
    "    classifier.fit(X_train_mnist, y_train_mnist)\n",
    "    return classifier\n",
    "\n",
    "# train logistic regression\n",
    "def_lr_classifier = train_classifier(LogisticRegression(C = C))\n",
    "\n",
    "# train k-nn\n",
    "def_knn_classifier = train_classifier(KNeighborsClassifier(n_neighbors = k))"
   ]
  },
  {
   "cell_type": "markdown",
   "metadata": {},
   "source": [
    "### Cross-validation"
   ]
  },
  {
   "cell_type": "markdown",
   "metadata": {},
   "source": [
    "When running the optimization code I chose to only test out the odd values for `k`. This is so that there's never a case where there's an equal number of neighbours of the same class, and thus this prevents clashes. For `C` I chose the values `0.1`-`1.0`, since taking a lot more values in between would take an incredibly long amount of time to compute."
   ]
  },
  {
   "cell_type": "code",
   "execution_count": 36,
   "metadata": {},
   "outputs": [
    {
     "name": "stdout",
     "output_type": "stream",
     "text": [
      "Calculating optimal C...\n",
      "Optimal regularization parameter C = 0.9 , cv-score: 0.954\n",
      "Calculating optimal k...\n",
      "Optimal no. neighbors k = 5 , cv-score: 0.962666666667\n"
     ]
    }
   ],
   "source": [
    "def cross_validate(classifier, values):\n",
    "    \"\"\"\n",
    "    picks value with best cv-score out of a range of values\n",
    "    returns a tuple containing the optima for value and score and the overall values and scores\n",
    "    \"\"\"\n",
    "    global cv_type\n",
    "    opt_score = 0\n",
    "    opt_val = 0\n",
    "    all_scores = []\n",
    "    \n",
    "    for val in values:\n",
    "        cv_classifier = classifier(val)\n",
    "\n",
    "        # calculate average cv-score\n",
    "        scores = cross_val_score(cv_classifier, X_train_mnist, y_train_mnist, cv=cv_type)\n",
    "        score = scores.mean()\n",
    "        all_scores.append(score)\n",
    "        \n",
    "        # update optimal score and value if it's higher\n",
    "        if score > opt_score:\n",
    "            opt_score = score\n",
    "            opt_val = val\n",
    "    \n",
    "    #return optimal value and cv-score\n",
    "    return (opt_val, opt_score, values, all_scores)\n",
    "\n",
    "\n",
    "# -- optimize regularization parameter C\n",
    "\n",
    "# C values from 0.1 to 1.0\n",
    "C_vals = np.array(range(1, 11)) / 10\n",
    "\n",
    "# calculate C with best cv-score\n",
    "print(\"Calculating optimal C...\")\n",
    "(opt_C, lr_opt_score, C_vals, C_cv_scores) = cross_validate(lambda C: LogisticRegression(C = C), C_vals)\n",
    "\n",
    "print(\"Optimal regularization parameter C =\", opt_C, \", cv-score:\", lr_opt_score)\n",
    "\n",
    "# -- optimize no. of neighbours k\n",
    "\n",
    "# use only odd k's in order to avoid clashes\n",
    "odd_ks = [k for k in range(1,30) if k % 2 != 0]\n",
    "\n",
    "# calculate k with best cv-score\n",
    "print(\"Calculating optimal k...\")\n",
    "(opt_k, knn_opt_score, k_vals, k_cv_scores) = cross_validate(lambda k: KNeighborsClassifier(n_neighbors = k), odd_ks)\n",
    "\n",
    "print(\"Optimal no. neighbors k =\", opt_k, \", cv-score:\", knn_opt_score)"
   ]
  },
  {
   "cell_type": "markdown",
   "metadata": {},
   "source": [
    "### Training (Using Optimized parameters)"
   ]
  },
  {
   "cell_type": "code",
   "execution_count": 37,
   "metadata": {
    "collapsed": true
   },
   "outputs": [],
   "source": [
    "# train logistic regression\n",
    "opt_lr_classifier = train_classifier(LogisticRegression(C = opt_C))\n",
    "\n",
    "# train k-nn\n",
    "opt_knn_classifier = train_classifier(KNeighborsClassifier(n_neighbors = opt_k))"
   ]
  },
  {
   "cell_type": "markdown",
   "metadata": {},
   "source": [
    "# Results and analysis of the experiment\n",
    "### Cross-Validation Performance"
   ]
  },
  {
   "cell_type": "markdown",
   "metadata": {},
   "source": [
    "As you can see in the graphs down below, both classifiers have relatively high accuracy scores when fully optimized. However, the values do not differ too much from their initial (default) scores, since they were already pretty close to their optimal values. This method would still be useful though in the case where you would have a default C or k that is not that close to these values."
   ]
  },
  {
   "cell_type": "code",
   "execution_count": 38,
   "metadata": {},
   "outputs": [
    {
     "name": "stdout",
     "output_type": "stream",
     "text": [
      "Cross-validation Accuracy Scores:\n",
      "\n",
      "Default Logistic Regression: 0.953333333333\n",
      "Default K-Nearest Neighbours: 0.962666666667\n",
      "Optimized Logistic Regression: 0.954\n",
      "Optimized K-Nearest Neighbours: 0.962666666667\n"
     ]
    },
    {
     "data": {
      "image/png": "[encoded data removed]",
      "text/plain": [
       "<matplotlib.figure.Figure at 0x118722748>"
      ]
     },
     "metadata": {},
     "output_type": "display_data"
    },
    {
     "data": {
      "image/png": "[encoded data removed]",
      "text/plain": [
       "<matplotlib.figure.Figure at 0x11d603c18>"
      ]
     },
     "metadata": {},
     "output_type": "display_data"
    }
   ],
   "source": [
    "# calculate default cv-scores\n",
    "def_lr_cv_score = cross_val_score(def_lr_classifier, X_train_mnist, y_train_mnist, cv=cv_type).mean()\n",
    "def_knn_cv_score = cross_val_score(def_knn_classifier, X_train_mnist, y_train_mnist, cv=cv_type).mean()\n",
    "\n",
    "# calculate optimized cv-scores\n",
    "opt_lr_cv_score = cross_val_score(opt_lr_classifier, X_train_mnist, y_train_mnist, cv=cv_type).mean()\n",
    "opt_knn_cv_score = cross_val_score(opt_knn_classifier, X_train_mnist, y_train_mnist, cv=cv_type).mean()\n",
    "\n",
    "print(\"Cross-validation Accuracy Scores:\\n\")\n",
    "print(\"Default Logistic Regression:\", def_lr_cv_score)\n",
    "print(\"Default K-Nearest Neighbours:\", def_knn_cv_score)\n",
    "print(\"Optimized Logistic Regression:\", opt_lr_cv_score)\n",
    "print(\"Optimized K-Nearest Neighbours:\", opt_knn_cv_score)\n",
    "\n",
    "def plot_cv_result(xlab, opt_val, opt_score, values, all_scores, title_n):\n",
    "    \"\"\"\n",
    "    plots a graph visualizing the different CV-accuracy scores for a\n",
    "    given set of values\n",
    "    \"\"\"\n",
    "    plot(values, all_scores, label=\"All \"+xlab+\" values\")\n",
    "    plot([opt_val], [opt_score], marker='o', markersize=3, color=\"red\", label=\"Optimal \"+xlab+\" value\")\n",
    "    title(title_n)\n",
    "    xlabel(xlab)\n",
    "    ylabel(\"CV-Accuracy Score\")\n",
    "    legend()\n",
    "    show()\n",
    "\n",
    "# plot the average cross validation accuracies for different values of the parameter \n",
    "\n",
    "plot_cv_result(\"C\", opt_C, lr_opt_score, C_vals, C_cv_scores, \"Logistic Regression CV-Performance\")\n",
    "plot_cv_result(\"k\", opt_k, knn_opt_score, k_vals, k_cv_scores, \"K-Nearest Neighbours CV-Performance\")"
   ]
  },
  {
   "cell_type": "markdown",
   "metadata": {},
   "source": [
    "### Test Performance"
   ]
  },
  {
   "cell_type": "markdown",
   "metadata": {},
   "source": [
    "When taking a look at the test performance of both classifiers, you can see that in general the K-Nearest Neighbours classifier performs slightly better than the Logistic Regression classifier. However, Logistic Regression does perform better in classifying label 2, where it has a better precision, recall and f1-score than K-NN. Logistic Regression also has better precision and f1-score on label 5, but its recall is equal to K-NN's (`1.0`)."
   ]
  },
  {
   "cell_type": "code",
   "execution_count": 39,
   "metadata": {},
   "outputs": [
    {
     "name": "stdout",
     "output_type": "stream",
     "text": [
      "Logistic Regression:\n",
      "\n",
      "             precision    recall  f1-score   support\n",
      "\n",
      "          0       0.96      0.93      0.94        27\n",
      "          1       0.82      0.90      0.86        31\n",
      "          2       1.00      1.00      1.00        27\n",
      "          3       0.90      0.60      0.72        30\n",
      "          4       0.94      0.91      0.92        33\n",
      "          5       0.91      1.00      0.95        30\n",
      "          6       0.94      1.00      0.97        30\n",
      "          7       0.87      0.87      0.87        30\n",
      "          8       0.70      0.93      0.80        28\n",
      "          9       0.92      0.77      0.84        31\n",
      "\n",
      "avg / total       0.90      0.89      0.89       297\n",
      "\n",
      "K-Nearest Neighbours:\n",
      "\n",
      "             precision    recall  f1-score   support\n",
      "\n",
      "          0       0.96      1.00      0.98        27\n",
      "          1       0.89      1.00      0.94        31\n",
      "          2       0.96      0.93      0.94        27\n",
      "          3       0.96      0.80      0.87        30\n",
      "          4       1.00      0.88      0.94        33\n",
      "          5       0.88      1.00      0.94        30\n",
      "          6       1.00      1.00      1.00        30\n",
      "          7       0.88      0.97      0.92        30\n",
      "          8       0.89      0.89      0.89        28\n",
      "          9       0.93      0.87      0.90        31\n",
      "\n",
      "avg / total       0.94      0.93      0.93       297\n",
      "\n"
     ]
    }
   ],
   "source": [
    "def print_report(classifier, title):\n",
    "    \"\"\"\n",
    "    prints classification report for the given classifier\n",
    "    \"\"\"\n",
    "    global y_test_mnist, X_test_mnist\n",
    "    print(title+\":\\n\")\n",
    "    print(classification_report(y_test_mnist, classifier.predict(X_test_mnist)))\n",
    "\n",
    "print_report(opt_lr_classifier, \"Logistic Regression\")\n",
    "print_report(opt_knn_classifier, \"K-Nearest Neighbours\")"
   ]
  },
  {
   "cell_type": "markdown",
   "metadata": {
    "collapsed": true
   },
   "source": [
    "### Confusion Matrices"
   ]
  },
  {
   "cell_type": "markdown",
   "metadata": {
    "collapsed": true
   },
   "source": [
    "When you look at both confusion matrices you see that either classifier has relatively little issues with misclassification. The few misclassifications that they do make though, are roughly the same (take for example label 8 that's misclassified as 1 in both classifiers and label 3 that seems to be the most misclassified in both classifiers). This can probably be explained by these labels being similar or closely related to each other. Logistic Regression also seems to have a more spread out range of misclassifications whereas those of K-Nearest Neighbours are more concentrated in single class pairs.\n",
    "\n",
    "**Note:** `plot_confusion_matrix` function was made with help of the scikit-learn [tutorial](http://www.bitly.com/sklearncm) on confusion matrices"
   ]
  },
  {
   "cell_type": "code",
   "execution_count": 40,
   "metadata": {},
   "outputs": [
    {
     "data": {
      "image/png": "[encoded data removed]",
      "text/plain": [
       "<matplotlib.figure.Figure at 0x1187e9128>"
      ]
     },
     "metadata": {},
     "output_type": "display_data"
    },
    {
     "data": {
      "image/png": "[encoded data removed]",
      "text/plain": [
       "<matplotlib.figure.Figure at 0x1187e9668>"
      ]
     },
     "metadata": {},
     "output_type": "display_data"
    }
   ],
   "source": [
    "def plot_confusion_matrix(classifier, title):\n",
    "    \"\"\"\n",
    "    generates a confusion matrix for the given classifier\n",
    "    and the test set and visually renders a table with the\n",
    "    amount of predicted classes for each class.\n",
    "    \"\"\"\n",
    "    global y_test_mnist, X_test_mnist, digits\n",
    "    \n",
    "    plt.figure()\n",
    "    \n",
    "    cm = confusion_matrix(y_test_mnist, classifier.predict(X_test_mnist))\n",
    "    classes = digits.target_names\n",
    "    \n",
    "    plt.imshow(cm, interpolation='nearest', cmap=plt.cm.Greys)\n",
    "    plt.title(title)\n",
    "    plt.colorbar()\n",
    "    tick_marks = np.arange(len(classes))\n",
    "    plt.xticks(tick_marks, classes, rotation=45)\n",
    "    plt.yticks(tick_marks, classes)\n",
    "\n",
    "    thresh = cm.max() / 2.\n",
    "    for i, j in itertools.product(range(cm.shape[0]), range(cm.shape[1])):\n",
    "        plt.text(j, i, format(cm[i, j], 'd'),\n",
    "                 horizontalalignment=\"center\",\n",
    "                 color=\"white\" if cm[i, j] > thresh else \"black\")\n",
    "\n",
    "    plt.tight_layout()\n",
    "    plt.ylabel('True Label')\n",
    "    plt.xlabel('Predicted Label')\n",
    "\n",
    "# plot confusion matrices\n",
    "plot_confusion_matrix(opt_lr_classifier, \"Logistic Regression\")\n",
    "plot_confusion_matrix(opt_knn_classifier, \"K-Nearest Neighbours\")"
   ]
  },
  {
   "cell_type": "code",
   "execution_count": 42,
   "metadata": {
    "collapsed": true
   },
   "outputs": [],
   "source": [
    "import antigravity"
   ]
  }
 ],
 "metadata": {
  "kernelspec": {
   "display_name": "Python 3",
   "language": "python",
   "name": "python3"
  },
  "language_info": {
   "codemirror_mode": {
    "name": "ipython",
    "version": 3
   },
   "file_extension": ".py",
   "mimetype": "text/x-python",
   "name": "python",
   "nbconvert_exporter": "python",
   "pygments_lexer": "ipython3",
   "version": "3.6.1"
  }
 },
 "nbformat": 4,
 "nbformat_minor": 2
}
