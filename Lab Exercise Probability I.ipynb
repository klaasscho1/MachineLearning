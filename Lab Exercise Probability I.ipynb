{
 "cells": [
  {
   "cell_type": "markdown",
   "metadata": {},
   "source": [
    "# Lab Exercise Probability I\n",
    "\n",
    "## Throwing a fair dice\n",
    "### 1. What is the probability space U if we throw once with a dice.\n",
    "U = P(1,...,6)\n",
    "### 2. We throw the same dice twice. What is the probability space for this experiment?\n",
    "The same\n",
    "### 3. What is the probability to throw a six twice?\n",
    "1/12\n",
    "### 4. What is the probability to get 9 points in total in two throws?\n",
    "The same\n",
    "\n",
    "## Venn Diagram\n",
    "\n",
    "Consider the Venn diagram for events A and Bin universe U. \n",
    "\n",
    "It is given that:\n",
    "\n",
    "𝖯(A)𝖯(B)𝖯(A∪B)=0.5=0.7=0.8\n",
    "\n",
    "### 1. The elementary region with label 3 corresponds with the event A∩B. Give the events (in terms of A, Band U) of the other three elementary regions.\n",
    "1. not A and not B\n",
    "2. A and not B\n",
    "3. A and B\n",
    "4. B and not A\n",
    "\n",
    "### 2. Calculate the probabilities of the four events defined in the previous question.\n",
    "1. 0.2\n",
    "2. 0.15\n",
    "3. 0.35\n",
    "4. 0.35\n",
    "\n",
    "## Axioms and Theorems of Probability\n",
    "\n",
    "### 1. Prove that 𝖯(A∪B)=𝖯(A)+𝖯(B)−𝖯(A∩B) using the axioms of probability. Start with a ‘graphical proof’ based on a Venn diagram. Can you also give a formal algebraic proof (i.e. manipulating equations).\n",
    "\n",
    "P(A∪B)=P(A−B)+P(A∩B)+P(B−A)\n",
    "\n",
    "P(A−B)=P(A)−P(A∩B)\n",
    "\n",
    "P(B−A)=P(B)−P(A∩B)\n",
    "\n",
    "So,\n",
    "\n",
    "𝖯(A∪B)=𝖯(A)+𝖯(B)−𝖯(A∩B)\n",
    "\n",
    "\n",
    "### 2. Also prove 𝖯(A)=𝖯(A∩B)+𝖯(A∩¬B).\n",
    "\n",
    "?? (TODO: Al. Gr.)\n",
    "\n",
    "### 3. /\\\n",
    "\n",
    "## Conditional Probability and Bayes Rule\n",
    "\n",
    "\n"
   ]
  },
  {
   "cell_type": "markdown",
   "metadata": {},
   "source": []
  }
 ],
 "metadata": {
  "kernelspec": {
   "display_name": "Python 3",
   "language": "python",
   "name": "python3"
  },
  "language_info": {
   "codemirror_mode": {
    "name": "ipython",
    "version": 3
   },
   "file_extension": ".py",
   "mimetype": "text/x-python",
   "name": "python",
   "nbconvert_exporter": "python",
   "pygments_lexer": "ipython3",
   "version": "3.6.1"
  }
 },
 "nbformat": 4,
 "nbformat_minor": 2
}
