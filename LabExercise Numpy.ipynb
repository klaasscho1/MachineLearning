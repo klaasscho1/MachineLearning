{
 "cells": [
  {
   "cell_type": "code",
   "execution_count": 1,
   "metadata": {
    "collapsed": true
   },
   "outputs": [],
   "source": [
    "import numpy as np"
   ]
  },
  {
   "cell_type": "markdown",
   "metadata": {},
   "source": [
    "# Exercise 1"
   ]
  },
  {
   "cell_type": "markdown",
   "metadata": {},
   "source": [
    "Given two arrays A and B each of the same size calculate their sum (elementwise) and their product (elementwise)."
   ]
  },
  {
   "cell_type": "code",
   "execution_count": 7,
   "metadata": {
    "collapsed": true
   },
   "outputs": [],
   "source": [
    "def sum(a, b):\n",
    "    return np.array(a) + np.array(b)"
   ]
  },
  {
   "cell_type": "code",
   "execution_count": 8,
   "metadata": {},
   "outputs": [
    {
     "data": {
      "text/plain": [
       "array([3, 5, 7])"
      ]
     },
     "execution_count": 8,
     "metadata": {},
     "output_type": "execute_result"
    }
   ],
   "source": [
    "sum([1,2,3], [2,3,4])"
   ]
  },
  {
   "cell_type": "code",
   "execution_count": 10,
   "metadata": {},
   "outputs": [],
   "source": [
    "def product(a, b):\n",
    "    return np.array(a) * np.array(b)"
   ]
  },
  {
   "cell_type": "code",
   "execution_count": 11,
   "metadata": {},
   "outputs": [
    {
     "data": {
      "text/plain": [
       "array([ 2,  6, 12])"
      ]
     },
     "execution_count": 11,
     "metadata": {},
     "output_type": "execute_result"
    }
   ],
   "source": [
    "product([1,2,3], [2,3,4])"
   ]
  },
  {
   "cell_type": "markdown",
   "metadata": {},
   "source": [
    "# Exercise 2"
   ]
  },
  {
   "cell_type": "markdown",
   "metadata": {},
   "source": [
    "Calculate the mean of all elements in an array A without using the np.mean or np.average functions."
   ]
  },
  {
   "cell_type": "code",
   "execution_count": 12,
   "metadata": {
    "collapsed": true
   },
   "outputs": [],
   "source": [
    "def mean(a):\n",
    "    return np.sum(np.array(a)) / len(a) "
   ]
  },
  {
   "cell_type": "code",
   "execution_count": 13,
   "metadata": {},
   "outputs": [
    {
     "data": {
      "text/plain": [
       "2.0"
      ]
     },
     "execution_count": 13,
     "metadata": {},
     "output_type": "execute_result"
    }
   ],
   "source": [
    "mean([1,2,3])"
   ]
  },
  {
   "cell_type": "markdown",
   "metadata": {},
   "source": [
    "# Exercise 3"
   ]
  },
  {
   "cell_type": "markdown",
   "metadata": {},
   "source": [
    "Calculate the standard deviation of all elements in an array A without using np.var or np.std."
   ]
  },
  {
   "cell_type": "code",
   "execution_count": 30,
   "metadata": {},
   "outputs": [],
   "source": [
    "def stddev(a):\n",
    "    npa = np.array(a)\n",
    "    mn = mean(a)\n",
    "    variance = mean((npa - mn) ** 2)\n",
    "    return variance ** (1/2)"
   ]
  },
  {
   "cell_type": "code",
   "execution_count": 31,
   "metadata": {},
   "outputs": [
    {
     "data": {
      "text/plain": [
       "0.81649658092772603"
      ]
     },
     "execution_count": 31,
     "metadata": {},
     "output_type": "execute_result"
    }
   ],
   "source": [
    "stddev([1,2,3])"
   ]
  },
  {
   "cell_type": "markdown",
   "metadata": {},
   "source": [
    "# Exercise 4"
   ]
  },
  {
   "cell_type": "markdown",
   "metadata": {},
   "source": [
    "Given an array A with shape (128,) calculate the sum of the first, third, fifth, etc elements (A[0]+A[2]+...)."
   ]
  },
  {
   "cell_type": "code",
   "execution_count": 41,
   "metadata": {
    "collapsed": true
   },
   "outputs": [],
   "source": [
    "def sumofscd(a):\n",
    "    return np.sum(np.array(a)[::2])"
   ]
  },
  {
   "cell_type": "code",
   "execution_count": 42,
   "metadata": {},
   "outputs": [
    {
     "data": {
      "text/plain": [
       "16"
      ]
     },
     "execution_count": 42,
     "metadata": {},
     "output_type": "execute_result"
    }
   ],
   "source": [
    "sumofscd([1,2,3,4,5,6,7])"
   ]
  },
  {
   "cell_type": "markdown",
   "metadata": {},
   "source": [
    "# Exercise 5"
   ]
  },
  {
   "cell_type": "markdown",
   "metadata": {},
   "source": [
    "Given an array A with shape (1024,) make an array B containing only the first 512 elements of A. I.e. B-shape should be (512,)."
   ]
  },
  {
   "cell_type": "code",
   "execution_count": 58,
   "metadata": {},
   "outputs": [],
   "source": [
    "def first512(a):\n",
    "    return np.array(a)[:512]"
   ]
  },
  {
   "cell_type": "code",
   "execution_count": 59,
   "metadata": {},
   "outputs": [
    {
     "data": {
      "text/plain": [
       "(512,)"
      ]
     },
     "execution_count": 59,
     "metadata": {},
     "output_type": "execute_result"
    }
   ],
   "source": [
    "first512([0] * 1024).shape"
   ]
  },
  {
   "cell_type": "markdown",
   "metadata": {},
   "source": [
    "# Exercise 6"
   ]
  },
  {
   "cell_type": "markdown",
   "metadata": {},
   "source": [
    "Given an array A with shape (1024,) make an array B containing only the elements A[22],A[23],...,A[42]."
   ]
  },
  {
   "cell_type": "code",
   "execution_count": 56,
   "metadata": {},
   "outputs": [],
   "source": [
    "def sub22to42(a):\n",
    "    return np.array(a)[22:42]"
   ]
  },
  {
   "cell_type": "code",
   "execution_count": 60,
   "metadata": {},
   "outputs": [
    {
     "data": {
      "text/plain": [
       "[0, 0, 0, 0, 0, 0, 0, 0, 0, 0, 0, 0, 0, 0, 0, 0, 0, 0, 0, 0]"
      ]
     },
     "execution_count": 60,
     "metadata": {},
     "output_type": "execute_result"
    }
   ],
   "source": [
    "sub22to42([0] * 1024)"
   ]
  },
  {
   "cell_type": "markdown",
   "metadata": {},
   "source": [
    "# Exercise 7"
   ]
  },
  {
   "cell_type": "markdown",
   "metadata": {},
   "source": [
    "Given an array A with shape (1024,) and an integer array I make an array B whose elements are A[I[0]], A[I[1]], ..., A[I[-1]]"
   ]
  },
  {
   "cell_type": "code",
   "execution_count": 63,
   "metadata": {
    "collapsed": true
   },
   "outputs": [],
   "source": [
    "def elementsAtIndices(a, i):\n",
    "    return [a[n] for n in i]"
   ]
  },
  {
   "cell_type": "code",
   "execution_count": 64,
   "metadata": {},
   "outputs": [
    {
     "data": {
      "text/plain": [
       "[0, 3, 2]"
      ]
     },
     "execution_count": 64,
     "metadata": {},
     "output_type": "execute_result"
    }
   ],
   "source": [
    "elementsAtIndices([0,1,2,3], [0, 3, 2])"
   ]
  },
  {
   "cell_type": "markdown",
   "metadata": {},
   "source": [
    "# Exercise 8"
   ]
  },
  {
   "cell_type": "markdown",
   "metadata": {},
   "source": [
    "Given an array A with shape (N,) make an array with all elements of A in reverse order."
   ]
  },
  {
   "cell_type": "code",
   "execution_count": 67,
   "metadata": {},
   "outputs": [],
   "source": [
    "def reverse(a):\n",
    "    return np.array(a)[::-1]"
   ]
  },
  {
   "cell_type": "code",
   "execution_count": 68,
   "metadata": {},
   "outputs": [
    {
     "data": {
      "text/plain": [
       "array([3, 2, 1])"
      ]
     },
     "execution_count": 68,
     "metadata": {},
     "output_type": "execute_result"
    }
   ],
   "source": [
    "reverse([1,2,3])"
   ]
  },
  {
   "cell_type": "markdown",
   "metadata": {},
   "source": [
    "# Exercise 9"
   ]
  },
  {
   "cell_type": "markdown",
   "metadata": {},
   "source": [
    "Given an array A = np.random.rand(128) make an array B containing all elements in A that are less then or equal to 0.5"
   ]
  },
  {
   "cell_type": "code",
   "execution_count": 74,
   "metadata": {},
   "outputs": [],
   "source": [
    "def lessThanHalf(a):\n",
    "    return [i for i in a if i <= 0.5]"
   ]
  },
  {
   "cell_type": "code",
   "execution_count": 75,
   "metadata": {},
   "outputs": [
    {
     "data": {
      "text/plain": [
       "[0.10765856458789336,\n",
       " 0.45898564910107797,\n",
       " 0.29371195566157648,\n",
       " 0.070196928858636043,\n",
       " 0.4521762563765489,\n",
       " 0.30415660402397693,\n",
       " 0.10325021142438739,\n",
       " 0.45650311968432256,\n",
       " 0.054976803616507142,\n",
       " 0.038342572148540643,\n",
       " 0.41230679642395029,\n",
       " 0.28694237255828436,\n",
       " 0.46816178144884801,\n",
       " 0.36671185432513764,\n",
       " 0.48975657418372254,\n",
       " 0.12809459506947951,\n",
       " 0.37508615240696641,\n",
       " 0.36013374079115823,\n",
       " 0.29654207861044357,\n",
       " 0.48120212498660275,\n",
       " 0.26456856185876232,\n",
       " 0.16124148033129648,\n",
       " 0.09465133029513928,\n",
       " 0.068834467286373213,\n",
       " 0.041775700114829784,\n",
       " 0.39592931662452591,\n",
       " 0.13786066607193803,\n",
       " 0.27986038100423327,\n",
       " 0.47389437987808991,\n",
       " 0.46898396393422348,\n",
       " 0.39205639011888482,\n",
       " 0.32506143836525458,\n",
       " 0.05940305787205491,\n",
       " 0.46810026707969166,\n",
       " 0.23118499183291974,\n",
       " 0.13704409403781781,\n",
       " 0.22737423850151861,\n",
       " 0.28693134925350361,\n",
       " 0.24944115199690031,\n",
       " 0.12733386547149783,\n",
       " 0.33815184805960752,\n",
       " 0.22859569662147994,\n",
       " 0.45521841383740491,\n",
       " 0.34625627197136311,\n",
       " 0.017881711358272101,\n",
       " 0.44664924779207515,\n",
       " 0.34426006256554986,\n",
       " 0.13097140668695662,\n",
       " 0.11574801430967041,\n",
       " 0.31932531501745998,\n",
       " 0.26996878664811719,\n",
       " 0.43357045079842582,\n",
       " 0.11785429204876208,\n",
       " 0.1241509859501253,\n",
       " 0.46074188071041611,\n",
       " 0.30865971870728115,\n",
       " 0.0061752635105430942,\n",
       " 0.46536891284404081,\n",
       " 0.45176346730912753,\n",
       " 0.42339628607198743,\n",
       " 0.046209302634649618,\n",
       " 0.30719191925827183,\n",
       " 0.24607758394011359,\n",
       " 0.27788153635946111,\n",
       " 0.32398878219760663,\n",
       " 0.068617576555177751,\n",
       " 0.38985933674009565,\n",
       " 0.071479101283457025]"
      ]
     },
     "execution_count": 75,
     "metadata": {},
     "output_type": "execute_result"
    }
   ],
   "source": [
    "lessThanHalf(np.random.rand(128))"
   ]
  }
 ],
 "metadata": {
  "kernelspec": {
   "display_name": "Python 3",
   "language": "python",
   "name": "python3"
  },
  "language_info": {
   "codemirror_mode": {
    "name": "ipython",
    "version": 3
   },
   "file_extension": ".py",
   "mimetype": "text/x-python",
   "name": "python",
   "nbconvert_exporter": "python",
   "pygments_lexer": "ipython3",
   "version": "3.6.1"
  }
 },
 "nbformat": 4,
 "nbformat_minor": 2
}
